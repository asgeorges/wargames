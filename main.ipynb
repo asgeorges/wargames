{
 "cells": [
  {
   "cell_type": "code",
   "execution_count": 1,
   "id": "bde2ca94",
   "metadata": {},
   "outputs": [],
   "source": [
    "import game_utils\n",
    "import pandas as pd\n",
    "\n",
    "# Define your data\n",
    "zones_data = [\n",
    "    {\"Zone ID\": 1, \"Type\": \"Urban\", \"Strategic Value\": 3, \"Resources\": 1, \"Terrain Difficulty\": 2, \"Control\": \"Blue\"},\n",
    "    {\"Zone ID\": 2, \"Type\": \"Industrial\", \"Strategic Value\": 2, \"Resources\": 3, \"Terrain Difficulty\": 1, \"Control\": \"Red\"},\n",
    "    {\"Zone ID\": 3, \"Type\": \"Rural\", \"Strategic Value\": 1, \"Resources\": 2, \"Terrain Difficulty\": 1, \"Control\": \"None\"},\n",
    "    {\"Zone ID\": 4, \"Type\": \"Mountain\", \"Strategic Value\": 2, \"Resources\": 1, \"Terrain Difficulty\": 3, \"Control\": \"None\"}\n",
    "]\n",
    "\n",
    "faction_forces_data = {\n",
    "    \"Blue\": {\"Infantry\": 100, \"Armor\": 50, \"Air Support\": 10, \"Special Forces\": 5, \"Resources\": 200},\n",
    "    \"Red\": {\"Infantry\": 150, \"Armor\": 40, \"Air Support\": 5, \"Special Forces\": 10, \"Resources\": 150}\n",
    "}\n",
    "\n",
    "historical_battles_data = [\n",
    "    {\"Battle ID\": 1, \"Zone ID\": 3, \"Attacker\": \"Blue\", \"Defender\": \"Red\", \"Outcome\": \"Win\", \"Attacker Losses\": 20, \"Defender Losses\": 30},\n",
    "    {\"Battle ID\": 2, \"Zone ID\": 4, \"Attacker\": \"Red\", \"Defender\": \"Blue\", \"Outcome\": \"Lose\", \"Attacker Losses\": 50, \"Defender Losses\": 10}\n",
    "]\n",
    "\n",
    "# Convert your data into pandas DataFrames\n",
    "zones_df = pd.DataFrame(zones_data)\n",
    "faction_forces_df = pd.DataFrame(faction_forces_data).transpose().reset_index().rename(columns={'index': 'Faction'})\n",
    "historical_battles_df = pd.DataFrame(historical_battles_data)"
   ]
  },
  {
   "cell_type": "code",
   "execution_count": 2,
   "id": "d2de918d",
   "metadata": {},
   "outputs": [],
   "source": [
    "# Utilize the learn_from_historical_battles function from game_utils, passing the historical battles and zones data\n",
    "game_utils.learn_from_historical_battles(historical_battles_data, zones_data)"
   ]
  },
  {
   "cell_type": "code",
   "execution_count": 3,
   "id": "edb850f9",
   "metadata": {},
   "outputs": [
    {
     "ename": "TypeError",
     "evalue": "'int' object is not subscriptable",
     "output_type": "error",
     "traceback": [
      "\u001b[0;31m---------------------------------------------------------------------------\u001b[0m",
      "\u001b[0;31mTypeError\u001b[0m                                 Traceback (most recent call last)",
      "\u001b[0;32m<ipython-input-3-b298a2796324>\u001b[0m in \u001b[0;36m<module>\u001b[0;34m\u001b[0m\n\u001b[1;32m      1\u001b[0m \u001b[0;31m# Call the run_ga function from game_utils, providing zones data and the faction forces for \"Blue\"\u001b[0m\u001b[0;34m\u001b[0m\u001b[0;34m\u001b[0m\u001b[0;34m\u001b[0m\u001b[0m\n\u001b[0;32m----> 2\u001b[0;31m \u001b[0mgame_utils\u001b[0m\u001b[0;34m.\u001b[0m\u001b[0mrun_ga\u001b[0m\u001b[0;34m(\u001b[0m\u001b[0mzones_data\u001b[0m\u001b[0;34m,\u001b[0m \u001b[0mfaction_forces_data\u001b[0m\u001b[0;34m[\u001b[0m\u001b[0;34m\"Blue\"\u001b[0m\u001b[0;34m]\u001b[0m\u001b[0;34m)\u001b[0m\u001b[0;34m\u001b[0m\u001b[0;34m\u001b[0m\u001b[0m\n\u001b[0m",
      "\u001b[0;32m~/Desktop/wargames/game_utils.py\u001b[0m in \u001b[0;36mrun_ga\u001b[0;34m(zones, faction_forces)\u001b[0m\n\u001b[1;32m     67\u001b[0m         \u001b[0;32mwhile\u001b[0m \u001b[0mlen\u001b[0m\u001b[0;34m(\u001b[0m\u001b[0mnext_generation\u001b[0m\u001b[0;34m)\u001b[0m \u001b[0;34m<\u001b[0m \u001b[0mpopulation_size\u001b[0m\u001b[0;34m:\u001b[0m\u001b[0;34m\u001b[0m\u001b[0;34m\u001b[0m\u001b[0m\n\u001b[1;32m     68\u001b[0m             \u001b[0mparent1\u001b[0m\u001b[0;34m,\u001b[0m \u001b[0mparent2\u001b[0m \u001b[0;34m=\u001b[0m \u001b[0;34m[\u001b[0m\u001b[0mp\u001b[0m\u001b[0;34m[\u001b[0m\u001b[0;36m0\u001b[0m\u001b[0;34m]\u001b[0m \u001b[0;32mfor\u001b[0m \u001b[0mp\u001b[0m \u001b[0;32min\u001b[0m \u001b[0mrandom\u001b[0m\u001b[0;34m.\u001b[0m\u001b[0msample\u001b[0m\u001b[0;34m(\u001b[0m\u001b[0mparents\u001b[0m\u001b[0;34m,\u001b[0m \u001b[0;36m2\u001b[0m\u001b[0;34m)\u001b[0m\u001b[0;34m]\u001b[0m\u001b[0;34m\u001b[0m\u001b[0;34m\u001b[0m\u001b[0m\n\u001b[0;32m---> 69\u001b[0;31m             \u001b[0moffspring1\u001b[0m\u001b[0;34m,\u001b[0m \u001b[0moffspring2\u001b[0m \u001b[0;34m=\u001b[0m \u001b[0mcrossover\u001b[0m\u001b[0;34m(\u001b[0m\u001b[0mparent1\u001b[0m\u001b[0;34m,\u001b[0m \u001b[0mparent2\u001b[0m\u001b[0;34m)\u001b[0m\u001b[0;34m\u001b[0m\u001b[0;34m\u001b[0m\u001b[0m\n\u001b[0m\u001b[1;32m     70\u001b[0m             \u001b[0mnext_generation\u001b[0m \u001b[0;34m+=\u001b[0m \u001b[0;34m[\u001b[0m\u001b[0mmutate\u001b[0m\u001b[0;34m(\u001b[0m\u001b[0moffspring1\u001b[0m\u001b[0;34m)\u001b[0m\u001b[0;34m,\u001b[0m \u001b[0mmutate\u001b[0m\u001b[0;34m(\u001b[0m\u001b[0moffspring2\u001b[0m\u001b[0;34m)\u001b[0m\u001b[0;34m]\u001b[0m\u001b[0;34m\u001b[0m\u001b[0;34m\u001b[0m\u001b[0m\n\u001b[1;32m     71\u001b[0m         \u001b[0mpopulation\u001b[0m \u001b[0;34m=\u001b[0m \u001b[0mnext_generation\u001b[0m\u001b[0;34m\u001b[0m\u001b[0;34m\u001b[0m\u001b[0m\n",
      "\u001b[0;32m~/Desktop/wargames/game_utils.py\u001b[0m in \u001b[0;36mcrossover\u001b[0;34m(parent1, parent2)\u001b[0m\n\u001b[1;32m     52\u001b[0m \u001b[0;32mdef\u001b[0m \u001b[0mcrossover\u001b[0m\u001b[0;34m(\u001b[0m\u001b[0mparent1\u001b[0m\u001b[0;34m,\u001b[0m \u001b[0mparent2\u001b[0m\u001b[0;34m)\u001b[0m\u001b[0;34m:\u001b[0m\u001b[0;34m\u001b[0m\u001b[0;34m\u001b[0m\u001b[0m\n\u001b[1;32m     53\u001b[0m     \u001b[0mcrossover_point\u001b[0m \u001b[0;34m=\u001b[0m \u001b[0mrandom\u001b[0m\u001b[0;34m.\u001b[0m\u001b[0mrandint\u001b[0m\u001b[0;34m(\u001b[0m\u001b[0;36m1\u001b[0m\u001b[0;34m,\u001b[0m \u001b[0mnum_zones\u001b[0m \u001b[0;34m-\u001b[0m \u001b[0;36m1\u001b[0m\u001b[0;34m)\u001b[0m\u001b[0;34m\u001b[0m\u001b[0;34m\u001b[0m\u001b[0m\n\u001b[0;32m---> 54\u001b[0;31m     \u001b[0;32mreturn\u001b[0m \u001b[0mparent1\u001b[0m\u001b[0;34m[\u001b[0m\u001b[0;34m:\u001b[0m\u001b[0mcrossover_point\u001b[0m\u001b[0;34m]\u001b[0m \u001b[0;34m+\u001b[0m \u001b[0mparent2\u001b[0m\u001b[0;34m[\u001b[0m\u001b[0mcrossover_point\u001b[0m\u001b[0;34m:\u001b[0m\u001b[0;34m]\u001b[0m\u001b[0;34m,\u001b[0m \u001b[0mparent2\u001b[0m\u001b[0;34m[\u001b[0m\u001b[0;34m:\u001b[0m\u001b[0mcrossover_point\u001b[0m\u001b[0;34m]\u001b[0m \u001b[0;34m+\u001b[0m \u001b[0mparent1\u001b[0m\u001b[0;34m[\u001b[0m\u001b[0mcrossover_point\u001b[0m\u001b[0;34m:\u001b[0m\u001b[0;34m]\u001b[0m\u001b[0;34m\u001b[0m\u001b[0;34m\u001b[0m\u001b[0m\n\u001b[0m\u001b[1;32m     55\u001b[0m \u001b[0;34m\u001b[0m\u001b[0m\n\u001b[1;32m     56\u001b[0m \u001b[0;32mdef\u001b[0m \u001b[0mmutate\u001b[0m\u001b[0;34m(\u001b[0m\u001b[0mindividual\u001b[0m\u001b[0;34m)\u001b[0m\u001b[0;34m:\u001b[0m\u001b[0;34m\u001b[0m\u001b[0;34m\u001b[0m\u001b[0m\n",
      "\u001b[0;31mTypeError\u001b[0m: 'int' object is not subscriptable"
     ]
    }
   ],
   "source": [
    "# Call the run_ga function from game_utils, providing zones data and the faction forces for \"Blue\"\n",
    "game_utils.run_ga(zones_data, faction_forces_data[\"Blue\"])"
   ]
  },
  {
   "cell_type": "code",
   "execution_count": null,
   "id": "1fc6d2f9",
   "metadata": {},
   "outputs": [],
   "source": []
  },
  {
   "cell_type": "code",
   "execution_count": null,
   "id": "21401db5",
   "metadata": {},
   "outputs": [],
   "source": []
  },
  {
   "cell_type": "code",
   "execution_count": null,
   "id": "297405a7",
   "metadata": {},
   "outputs": [],
   "source": []
  },
  {
   "cell_type": "code",
   "execution_count": null,
   "id": "30a812b4",
   "metadata": {},
   "outputs": [],
   "source": []
  },
  {
   "cell_type": "code",
   "execution_count": null,
   "id": "5018ad4d",
   "metadata": {},
   "outputs": [],
   "source": []
  },
  {
   "cell_type": "code",
   "execution_count": null,
   "id": "79f6fa41",
   "metadata": {},
   "outputs": [],
   "source": []
  },
  {
   "cell_type": "code",
   "execution_count": null,
   "id": "1050b480",
   "metadata": {},
   "outputs": [],
   "source": []
  },
  {
   "cell_type": "code",
   "execution_count": null,
   "id": "91707ff9",
   "metadata": {},
   "outputs": [],
   "source": []
  },
  {
   "cell_type": "code",
   "execution_count": null,
   "id": "812efa86",
   "metadata": {},
   "outputs": [],
   "source": []
  }
 ],
 "metadata": {
  "kernelspec": {
   "display_name": "Python 3",
   "language": "python",
   "name": "python3"
  },
  "language_info": {
   "codemirror_mode": {
    "name": "ipython",
    "version": 3
   },
   "file_extension": ".py",
   "mimetype": "text/x-python",
   "name": "python",
   "nbconvert_exporter": "python",
   "pygments_lexer": "ipython3",
   "version": "3.8.6"
  }
 },
 "nbformat": 4,
 "nbformat_minor": 5
}
